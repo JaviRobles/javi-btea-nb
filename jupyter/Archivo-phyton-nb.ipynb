{
 "cells": [
  {
   "cell_type": "code",
   "execution_count": 2,
   "metadata": {
    "collapsed": true
   },
   "outputs": [],
   "source": [
    "# This is my favorite notebook"
   ]
  },
  {
   "cell_type": "code",
   "execution_count": 3,
   "metadata": {
    "collapsed": false
   },
   "outputs": [
    {
     "name": "stdout",
     "output_type": "stream",
     "text": [
      "/c/Users/Javi/Desktop/javi-btea-nb/jupyter\n"
     ]
    }
   ],
   "source": [
    "!pwd"
   ]
  },
  {
   "cell_type": "code",
   "execution_count": 4,
   "metadata": {
    "collapsed": false
   },
   "outputs": [
    {
     "name": "stdout",
     "output_type": "stream",
     "text": [
      " El volumen de la unidad C es Xavi\n",
      " El n£mero de serie del volumen es: B4F6-6E57\n",
      "\n",
      " Directorio de C:\\Users\\Javi\\Desktop\\javi-btea-nb\\jupyter\n",
      "\n",
      "20/10/2015  04:26 p. m.    <DIR>          .\n",
      "20/10/2015  04:26 p. m.    <DIR>          ..\n",
      "20/10/2015  04:24 p. m.    <DIR>          .ipynb_checkpoints\n",
      "20/10/2015  04:26 p. m.             1,121 Archivo-phyton-nb.ipynb\n",
      "               1 archivos          1,121 bytes\n",
      "               3 dirs  218,841,645,056 bytes libres\n"
     ]
    }
   ],
   "source": [
    "ls"
   ]
  },
  {
   "cell_type": "code",
   "execution_count": 7,
   "metadata": {
    "collapsed": false
   },
   "outputs": [
    {
     "name": "stdout",
     "output_type": "stream",
     "text": [
      " El volumen de la unidad C es Xavi\n",
      " El n£mero de serie del volumen es: B4F6-6E57\n",
      "\n",
      " Directorio de C:\\Users\\Javi\\Desktop\\javi-btea-nb\\jupyter\n",
      "\n"
     ]
    },
    {
     "name": "stderr",
     "output_type": "stream",
     "text": [
      "No se encuentra el archivo\n"
     ]
    }
   ],
   "source": [
    "ls jupyter"
   ]
  },
  {
   "cell_type": "code",
   "execution_count": null,
   "metadata": {
    "collapsed": true
   },
   "outputs": [],
   "source": []
  }
 ],
 "metadata": {
  "kernelspec": {
   "display_name": "Python 2",
   "language": "python",
   "name": "python2"
  },
  "language_info": {
   "codemirror_mode": {
    "name": "ipython",
    "version": 2
   },
   "file_extension": ".py",
   "mimetype": "text/x-python",
   "name": "python",
   "nbconvert_exporter": "python",
   "pygments_lexer": "ipython2",
   "version": "2.7.10"
  }
 },
 "nbformat": 4,
 "nbformat_minor": 0
}
